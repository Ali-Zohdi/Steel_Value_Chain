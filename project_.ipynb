{
 "cells": [
  {
   "cell_type": "markdown",
   "metadata": {},
   "source": [
    "Import Libraries"
   ]
  },
  {
   "cell_type": "code",
<<<<<<< HEAD
   "execution_count": 1,
=======
   "execution_count": 23,
>>>>>>> 050388794913a1c18db30a7bc8bbe23701c52005
   "metadata": {},
   "outputs": [],
   "source": [
    "import pandas as pd\n",
    "import numpy as np\n",
    "import Saba_Scrapping as SS\n",
<<<<<<< HEAD
    "from geopy.geocoders import Nominatim\n",
    "import requests"
=======
    "from geopy.geocoders import Nominatim"
>>>>>>> 050388794913a1c18db30a7bc8bbe23701c52005
   ]
  },
  {
   "cell_type": "markdown",
   "metadata": {},
   "source": [
    "Scrap Data --> Infosaba.com"
   ]
  },
  {
   "cell_type": "code",
<<<<<<< HEAD
   "execution_count": 2,
   "metadata": {},
   "outputs": [
    {
     "name": "stdout",
     "output_type": "stream",
     "text": [
      "Industries are Done !\n",
      "Units are Done !\n",
      "Complexes are Done !\n",
      "There is no Complex in this link: https://infosaba.com/Unit_Subjects/مخازن\n",
      "There is no Complex in this link: https://infosaba.com/Unit_Subjects/بازیافت-پروپیلن\n",
      "There is no Complex in this link: https://infosaba.com/Unit_Subjects/متانول\n",
      "There is no Complex in this link: https://infosaba.com/Unit_Subjects/بوتانول\n",
      "There is no Complex in this link: https://infosaba.com/Unit_Subjects/تاسیسات-استخراج-سنگ-آهن\n",
      "There is no Complex in this link: https://infosaba.com/Unit_Subjects/ورق-خودرو\n",
      "There is no Complex in this link: https://infosaba.com/Unit_Subjects/مشخصات-معادن-بوکسیت\n",
      "There is no Complex in this link: https://infosaba.com/Unit_Subjects/کوره‌-شمش-ریزی-آلومینیوم\n",
      "There is no Complex in this link: https://infosaba.com/Unit_Subjects/اکسیداسیون\n",
      "There is no Complex in this link: https://infosaba.com/Unit_Subjects/بروشوئی-سیائیدی\n",
      "There is no Complex in this link: https://infosaba.com/Unit_Subjects/خردایش\n",
      "There is no Complex in this link: https://infosaba.com/Unit_Subjects/ریخته-گری-سرب\n",
      "There is no Complex in this link: https://infosaba.com/Unit_Subjects/معادن-سنگ-آهک\n",
      "There is no Complex in this link: https://infosaba.com/Unit_Subjects/کوره-پخت-سنگ-آهک\n",
      "There is no Complex in this link: https://infosaba.com/Unit_Subjects/خط-انتقال-پست-132\n",
      "Unit_Complex is Done !\n"
     ]
    }
   ],
=======
   "execution_count": null,
   "metadata": {},
   "outputs": [],
>>>>>>> 050388794913a1c18db30a7bc8bbe23701c52005
   "source": [
    "my_chromdriver = \"Z:\\\\HQ\\BDM\\\\a.zohdi\\\\Data Engineering\\\\Github\\\\Geocoding\\\\chromedriver-win32\\\\chromedriver-win32\\\\chromedriver.exe\"\n",
    "\n",
    "df_industries = SS.GET_industries(my_chromdriver)\n",
    "print('Industries are Done !')\n",
    "\n",
    "urls = df_industries['URL']\n",
    "df_units = SS.GET_unit_subjects(urls, my_chromdriver)\n",
    "print('Units are Done !')\n",
    "\n",
    "df_complexes = SS.GET_complexes(my_chromdriver)\n",
    "print('Complexes are Done !')\n",
    "\n",
    "urls = df_units['URL']\n",
    "df_unitcomplex = SS.GET_unit_complex(urls, my_chromdriver)\n",
    "print('Unit_Complex is Done !')"
   ]
  },
  {
<<<<<<< HEAD
=======
   "cell_type": "code",
   "execution_count": null,
   "metadata": {},
   "outputs": [],
   "source": [
    "with pd.ExcelWriter('Z:\\\\HQ\\\\BDM\\\\00 Public BDM\\\\A.Zohdi\\\\Saba Info.xlsx') as writer:\n",
    "    df_industries.to_excel(writer, sheet_name='Industry')\n",
    "    df_units.to_excel(writer, sheet_name='Unit')\n",
    "    df_complexes.to_excel(writer, sheet_name='Complex')\n",
    "    df_unitcomplex.to_excel(writer, sheet_name='Unit_Complex')"
   ]
  },
  {
>>>>>>> 050388794913a1c18db30a7bc8bbe23701c52005
   "cell_type": "markdown",
   "metadata": {},
   "source": [
    "Get Coordinations using complex.name & OSM.name (kinda)"
   ]
  },
  {
   "cell_type": "code",
<<<<<<< HEAD
   "execution_count": 7,
=======
   "execution_count": 24,
>>>>>>> 050388794913a1c18db30a7bc8bbe23701c52005
   "metadata": {},
   "outputs": [],
   "source": [
    "complex_coords = pd.read_excel(\"Z:\\\\HQ\\\\BDM\\\\a.zohdi\\\\Complex OSM.xlsx\", index_col=0)\n",
    "geolocator = Nominatim(user_agent=\"Zohdi\")\n",
    "\n",
    "# getting coordinations of complexes\n",
    "complex_coords['coordination'] = np.nan\n",
    "i = 0\n",
    "while i < len(complex_coords):\n",
    "    if not pd.isna(complex_coords.iloc[i, 3]):\n",
    "\n",
    "        OSM_name = complex_coords.iloc[i, 3]\n",
    "        location = geolocator.geocode(OSM_name)\n",
    "        coordination = f\"{location.latitude}, {location.longitude}\"\n",
    "        complex_coords.iloc[i, 5] = coordination\n",
    "        i += 1\n",
    "\n",
    "    else:\n",
    "\n",
    "        complex_coords.iloc[i, 5] = complex_coords.iloc[i, 4]\n",
    "        i += 1\n",
    "\n",
    "# split coordination to lat-long\n",
    "complex_coords[['latitude', 'longitude']] = complex_coords['coordination'].str.split(',', expand=True)"
   ]
  },
  {
   "cell_type": "code",
<<<<<<< HEAD
   "execution_count": 10,
   "metadata": {},
   "outputs": [],
   "source": [
    "df_complexes = complex_coords\n",
    "\n",
    "with pd.ExcelWriter('Z:\\\\HQ\\\\BDM\\\\00 Public BDM\\\\A.Zohdi\\\\Saba Info.xlsx') as writer:\n",
    "    df_industries.to_excel(writer, sheet_name='Industry')\n",
    "    df_units.to_excel(writer, sheet_name='Unit')\n",
    "    df_complexes.to_excel(writer, sheet_name='Complex')\n",
    "    df_unitcomplex.to_excel(writer, sheet_name='Unit_Complex')"
   ]
  },
  {
   "cell_type": "code",
   "execution_count": 11,
   "metadata": {},
   "outputs": [
    {
     "data": {
      "text/html": [
       "<div>\n",
       "<style scoped>\n",
       "    .dataframe tbody tr th:only-of-type {\n",
       "        vertical-align: middle;\n",
       "    }\n",
       "\n",
       "    .dataframe tbody tr th {\n",
       "        vertical-align: top;\n",
       "    }\n",
       "\n",
       "    .dataframe thead th {\n",
       "        text-align: right;\n",
       "    }\n",
       "</style>\n",
       "<table border=\"1\" class=\"dataframe\">\n",
       "  <thead>\n",
       "    <tr style=\"text-align: right;\">\n",
       "      <th></th>\n",
       "      <th>city</th>\n",
       "      <th>name</th>\n",
       "      <th>industry.name</th>\n",
       "      <th>OSM_name</th>\n",
       "      <th>GoogleMap_coordination</th>\n",
       "      <th>coordination</th>\n",
       "      <th>latitude</th>\n",
       "      <th>longitude</th>\n",
       "    </tr>\n",
       "  </thead>\n",
       "  <tbody>\n",
       "    <tr>\n",
       "      <th>0</th>\n",
       "      <td>سیرجان</td>\n",
       "      <td>مجتمع معدنی و صنعتی گل گهر</td>\n",
       "      <td>آهن و فولاد</td>\n",
       "      <td>شرکت معدنی و صنعتی گل گهر سیرجان</td>\n",
       "      <td>NaN</td>\n",
       "      <td>29.0918765, 55.3341122</td>\n",
       "      <td>29.0918765</td>\n",
       "      <td>55.3341122</td>\n",
       "    </tr>\n",
       "    <tr>\n",
       "      <th>1</th>\n",
       "      <td>کرمان</td>\n",
       "      <td>مجتمع سنگ آهن گهر زمین</td>\n",
       "      <td>آهن و فولاد</td>\n",
       "      <td>Gohar Zamin</td>\n",
       "      <td>NaN</td>\n",
       "      <td>29.11945075, 55.30752518689982</td>\n",
       "      <td>29.11945075</td>\n",
       "      <td>55.30752518689982</td>\n",
       "    </tr>\n",
       "    <tr>\n",
       "      <th>2</th>\n",
       "      <td>مبارکه</td>\n",
       "      <td>مجتمع فولاد مبارکه</td>\n",
       "      <td>آهن و فولاد</td>\n",
       "      <td>فولاد مبارکه</td>\n",
       "      <td>NaN</td>\n",
       "      <td>32.25749505, 51.42830138753927</td>\n",
       "      <td>32.25749505</td>\n",
       "      <td>51.42830138753927</td>\n",
       "    </tr>\n",
       "    <tr>\n",
       "      <th>3</th>\n",
       "      <td>سیرجان</td>\n",
       "      <td>مجتمع جهان فولاد سیرجان</td>\n",
       "      <td>آهن و فولاد</td>\n",
       "      <td>شرکت جهان فولاد سیرجان</td>\n",
       "      <td>NaN</td>\n",
       "      <td>29.14299905, 55.38473014168271</td>\n",
       "      <td>29.14299905</td>\n",
       "      <td>55.38473014168271</td>\n",
       "    </tr>\n",
       "    <tr>\n",
       "      <th>4</th>\n",
       "      <td>عسلویه</td>\n",
       "      <td>پالایشگاه هفتم گاز پارس جنوبی (فاز 17 و 18)</td>\n",
       "      <td>پالایش گاز</td>\n",
       "      <td>NaN</td>\n",
       "      <td>NaN</td>\n",
       "      <td>NaN</td>\n",
       "      <td>NaN</td>\n",
       "      <td>NaN</td>\n",
       "    </tr>\n",
       "    <tr>\n",
       "      <th>...</th>\n",
       "      <td>...</td>\n",
       "      <td>...</td>\n",
       "      <td>...</td>\n",
       "      <td>...</td>\n",
       "      <td>...</td>\n",
       "      <td>...</td>\n",
       "      <td>...</td>\n",
       "      <td>...</td>\n",
       "    </tr>\n",
       "    <tr>\n",
       "      <th>1342</th>\n",
       "      <td>بندر عباس</td>\n",
       "      <td>پالایشگاه گازی گشوی جنوبی</td>\n",
       "      <td>پالایش گاز</td>\n",
       "      <td>NaN</td>\n",
       "      <td>NaN</td>\n",
       "      <td>NaN</td>\n",
       "      <td>NaN</td>\n",
       "      <td>NaN</td>\n",
       "    </tr>\n",
       "    <tr>\n",
       "      <th>1343</th>\n",
       "      <td>بهشهر</td>\n",
       "      <td>پایانه وارداتی نکا (نکاء)</td>\n",
       "      <td>انتقال و ذخیره</td>\n",
       "      <td>NaN</td>\n",
       "      <td>NaN</td>\n",
       "      <td>NaN</td>\n",
       "      <td>NaN</td>\n",
       "      <td>NaN</td>\n",
       "    </tr>\n",
       "    <tr>\n",
       "      <th>1344</th>\n",
       "      <td>چناران</td>\n",
       "      <td>پولاد آذر ماهان</td>\n",
       "      <td>آهن و فولاد</td>\n",
       "      <td>NaN</td>\n",
       "      <td>36.58502765735276, 59.08657055088608</td>\n",
       "      <td>36.58502765735276, 59.08657055088608</td>\n",
       "      <td>36.58502765735276</td>\n",
       "      <td>59.08657055088608</td>\n",
       "    </tr>\n",
       "    <tr>\n",
       "      <th>1345</th>\n",
       "      <td>خرم آباد</td>\n",
       "      <td>کارخانه سیمان خرم آباد</td>\n",
       "      <td>سیمان</td>\n",
       "      <td>NaN</td>\n",
       "      <td>NaN</td>\n",
       "      <td>NaN</td>\n",
       "      <td>NaN</td>\n",
       "      <td>NaN</td>\n",
       "    </tr>\n",
       "    <tr>\n",
       "      <th>1346</th>\n",
       "      <td>دهلران</td>\n",
       "      <td>کارخانه سیمان دهلران</td>\n",
       "      <td>سیمان</td>\n",
       "      <td>NaN</td>\n",
       "      <td>NaN</td>\n",
       "      <td>NaN</td>\n",
       "      <td>NaN</td>\n",
       "      <td>NaN</td>\n",
       "    </tr>\n",
       "  </tbody>\n",
       "</table>\n",
       "<p>1347 rows × 8 columns</p>\n",
       "</div>"
      ],
      "text/plain": [
       "           city                                         name   industry.name  \\\n",
       "0        سیرجان                   مجتمع معدنی و صنعتی گل گهر     آهن و فولاد   \n",
       "1         کرمان                       مجتمع سنگ آهن گهر زمین     آهن و فولاد   \n",
       "2        مبارکه                           مجتمع فولاد مبارکه     آهن و فولاد   \n",
       "3        سیرجان                      مجتمع جهان فولاد سیرجان     آهن و فولاد   \n",
       "4        عسلویه  پالایشگاه هفتم گاز پارس جنوبی (فاز 17 و 18)      پالایش گاز   \n",
       "...         ...                                          ...             ...   \n",
       "1342  بندر عباس                    پالایشگاه گازی گشوی جنوبی      پالایش گاز   \n",
       "1343      بهشهر                    پایانه وارداتی نکا (نکاء)  انتقال و ذخیره   \n",
       "1344     چناران                              پولاد آذر ماهان     آهن و فولاد   \n",
       "1345   خرم آباد                       کارخانه سیمان خرم آباد           سیمان   \n",
       "1346     دهلران                         کارخانه سیمان دهلران           سیمان   \n",
       "\n",
       "                              OSM_name                GoogleMap_coordination  \\\n",
       "0     شرکت معدنی و صنعتی گل گهر سیرجان                                   NaN   \n",
       "1                          Gohar Zamin                                   NaN   \n",
       "2                         فولاد مبارکه                                   NaN   \n",
       "3               شرکت جهان فولاد سیرجان                                   NaN   \n",
       "4                                  NaN                                   NaN   \n",
       "...                                ...                                   ...   \n",
       "1342                               NaN                                   NaN   \n",
       "1343                               NaN                                   NaN   \n",
       "1344                               NaN  36.58502765735276, 59.08657055088608   \n",
       "1345                               NaN                                   NaN   \n",
       "1346                               NaN                                   NaN   \n",
       "\n",
       "                              coordination           latitude  \\\n",
       "0                   29.0918765, 55.3341122         29.0918765   \n",
       "1           29.11945075, 55.30752518689982        29.11945075   \n",
       "2           32.25749505, 51.42830138753927        32.25749505   \n",
       "3           29.14299905, 55.38473014168271        29.14299905   \n",
       "4                                      NaN                NaN   \n",
       "...                                    ...                ...   \n",
       "1342                                   NaN                NaN   \n",
       "1343                                   NaN                NaN   \n",
       "1344  36.58502765735276, 59.08657055088608  36.58502765735276   \n",
       "1345                                   NaN                NaN   \n",
       "1346                                   NaN                NaN   \n",
       "\n",
       "               longitude  \n",
       "0             55.3341122  \n",
       "1      55.30752518689982  \n",
       "2      51.42830138753927  \n",
       "3      55.38473014168271  \n",
       "4                    NaN  \n",
       "...                  ...  \n",
       "1342                 NaN  \n",
       "1343                 NaN  \n",
       "1344   59.08657055088608  \n",
       "1345                 NaN  \n",
       "1346                 NaN  \n",
       "\n",
       "[1347 rows x 8 columns]"
      ]
     },
     "execution_count": 11,
     "metadata": {},
     "output_type": "execute_result"
    }
   ],
   "source": [
    "df_complexes\n"
=======
   "execution_count": null,
   "metadata": {},
   "outputs": [],
   "source": [
    "dsf"
>>>>>>> 050388794913a1c18db30a7bc8bbe23701c52005
   ]
  }
 ],
 "metadata": {
  "kernelspec": {
   "display_name": "Python 3",
   "language": "python",
   "name": "python3"
  },
  "language_info": {
   "codemirror_mode": {
    "name": "ipython",
    "version": 3
   },
   "file_extension": ".py",
   "mimetype": "text/x-python",
   "name": "python",
   "nbconvert_exporter": "python",
   "pygments_lexer": "ipython3",
   "version": "3.11.5"
  },
  "orig_nbformat": 4
 },
 "nbformat": 4,
 "nbformat_minor": 2
}
