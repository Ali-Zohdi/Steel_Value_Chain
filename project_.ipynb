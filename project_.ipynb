{
 "cells": [
  {
   "cell_type": "markdown",
   "metadata": {},
   "source": [
    "Import Libraries"
   ]
  },
  {
   "cell_type": "code",
   "execution_count": 23,
   "metadata": {},
   "outputs": [],
   "source": [
    "import pandas as pd\n",
    "import numpy as np\n",
    "import Saba_Scrapping as SS\n",
    "from geopy.geocoders import Nominatim"
   ]
  },
  {
   "cell_type": "markdown",
   "metadata": {},
   "source": [
    "Scrap Data --> Infosaba.com"
   ]
  },
  {
   "cell_type": "code",
   "execution_count": null,
   "metadata": {},
   "outputs": [],
   "source": [
    "my_chromdriver = \"Z:\\\\HQ\\BDM\\\\a.zohdi\\\\Data Engineering\\\\Github\\\\Geocoding\\\\chromedriver-win32\\\\chromedriver-win32\\\\chromedriver.exe\"\n",
    "\n",
    "df_industries = SS.GET_industries(my_chromdriver)\n",
    "print('Industries are Done !')\n",
    "\n",
    "urls = df_industries['URL']\n",
    "df_units = SS.GET_unit_subjects(urls, my_chromdriver)\n",
    "print('Units are Done !')\n",
    "\n",
    "df_complexes = SS.GET_complexes(my_chromdriver)\n",
    "print('Complexes are Done !')\n",
    "\n",
    "urls = df_units['URL']\n",
    "df_unitcomplex = SS.GET_unit_complex(urls, my_chromdriver)\n",
    "print('Unit_Complex is Done !')"
   ]
  },
  {
   "cell_type": "code",
   "execution_count": null,
   "metadata": {},
   "outputs": [],
   "source": [
    "with pd.ExcelWriter('Z:\\\\HQ\\\\BDM\\\\00 Public BDM\\\\A.Zohdi\\\\Saba Info.xlsx') as writer:\n",
    "    df_industries.to_excel(writer, sheet_name='Industry')\n",
    "    df_units.to_excel(writer, sheet_name='Unit')\n",
    "    df_complexes.to_excel(writer, sheet_name='Complex')\n",
    "    df_unitcomplex.to_excel(writer, sheet_name='Unit_Complex')"
   ]
  },
  {
   "cell_type": "markdown",
   "metadata": {},
   "source": [
    "Get Coordinations using complex.name & OSM.name (kinda)"
   ]
  },
  {
   "cell_type": "code",
   "execution_count": 24,
   "metadata": {},
   "outputs": [],
   "source": [
    "complex_coords = pd.read_excel(\"Z:\\\\HQ\\\\BDM\\\\a.zohdi\\\\Complex OSM.xlsx\", index_col=0)\n",
    "geolocator = Nominatim(user_agent=\"Zohdi\")\n",
    "\n",
    "# getting coordinations of complexes\n",
    "complex_coords['coordination'] = np.nan\n",
    "i = 0\n",
    "while i < len(complex_coords):\n",
    "    if not pd.isna(complex_coords.iloc[i, 3]):\n",
    "\n",
    "        OSM_name = complex_coords.iloc[i, 3]\n",
    "        location = geolocator.geocode(OSM_name)\n",
    "        coordination = f\"{location.latitude}, {location.longitude}\"\n",
    "        complex_coords.iloc[i, 5] = coordination\n",
    "        i += 1\n",
    "\n",
    "    else:\n",
    "\n",
    "        complex_coords.iloc[i, 5] = complex_coords.iloc[i, 4]\n",
    "        i += 1\n",
    "\n",
    "# split coordination to lat-long\n",
    "complex_coords[['latitude', 'longitude']] = complex_coords['coordination'].str.split(',', expand=True)"
   ]
  },
  {
   "cell_type": "code",
   "execution_count": null,
   "metadata": {},
   "outputs": [],
   "source": []
  }
 ],
 "metadata": {
  "kernelspec": {
   "display_name": "Python 3",
   "language": "python",
   "name": "python3"
  },
  "language_info": {
   "codemirror_mode": {
    "name": "ipython",
    "version": 3
   },
   "file_extension": ".py",
   "mimetype": "text/x-python",
   "name": "python",
   "nbconvert_exporter": "python",
   "pygments_lexer": "ipython3",
   "version": "3.11.5"
  },
  "orig_nbformat": 4
 },
 "nbformat": 4,
 "nbformat_minor": 2
}
